{
  "metadata": {
    "language_info": {
      "codemirror_mode": {
        "name": "python",
        "version": 3
      },
      "file_extension": ".py",
      "mimetype": "text/x-python",
      "name": "python",
      "nbconvert_exporter": "python",
      "pygments_lexer": "ipython3",
      "version": "3.8"
    },
    "kernelspec": {
      "name": "python",
      "display_name": "Python (Pyodide)",
      "language": "python"
    }
  },
  "nbformat_minor": 4,
  "nbformat": 4,
  "cells": [
    {
      "cell_type": "code",
      "source": "import pandas as pd\nimport numpy as np\n\n# Setting a random seed for reproducibility\nnp.random.seed(42)\n\n# Generate a date range for the monthly data (for 3 years to get a good amount of data)\ndate_range = pd.date_range(start='2020-01-01', end='2022-12-31', freq='M')\n\n# Number of rows (one for each month)\nnum_rows = len(date_range)\n\n# Generate random data for each KPI metric\ndata = {\n    'Date': date_range,\n    'Monthly Sales': np.random.randint(100000, 200000, size=num_rows),\n    'Average Transaction Value': np.random.randint(50, 200, size=num_rows),\n    'Customer Retention Rate': np.random.uniform(0.5, 0.9, size=num_rows),\n    'New Customers Acquired': np.random.randint(100, 1000, size=num_rows),\n}\n\n# Create a DataFrame from the data\ndf = pd.DataFrame(data)\n\n# Generate random data for product category sales\nproduct_categories = ['Electronics', 'Furniture', 'Groceries', 'Clothing', 'Accessories']\nfor category in product_categories:\n    df[f'{category} Sales'] = np.random.randint(10000, 50000, size=num_rows)\n\n# Generate random data for customer demographics\ndemographics = {\n    'Age 18-25': np.random.randint(50, 200, size=num_rows),\n    'Age 26-35': np.random.randint(100, 300, size=num_rows),\n    'Age 36-45': np.random.randint(80, 250, size=num_rows),\n    'Age 46-60': np.random.randint(60, 200, size=num_rows),\n    'Age 60+': np.random.randint(30, 100, size=num_rows),\n    'Male': np.random.randint(100, 500, size=num_rows),\n    'Female': np.random.randint(100, 500, size=num_rows),\n    'Other': np.random.randint(10, 50, size=num_rows),\n}\nfor demo, values in demographics.items():\n    df[demo] = values\n\n# Generate random data for peak shopping hours\npeak_hours = ['Morning (6-12)', 'Afternoon (12-18)', 'Evening (18-24)', 'Night (0-6)']\nfor hour in peak_hours:\n    df[hour] = np.random.randint(100, 1000, size=num_rows)\n\n# Display the first few rows of the DataFrame\ndf.head()\n\n# Save the DataFrame to a CSV file\ndf.to_csv('Retail_Dashboard_Data.csv', index=False)",
      "metadata": {
        "trusted": true
      },
      "execution_count": 2,
      "outputs": []
    },
    {
      "cell_type": "code",
      "source": "",
      "metadata": {},
      "execution_count": null,
      "outputs": []
    }
  ]
}